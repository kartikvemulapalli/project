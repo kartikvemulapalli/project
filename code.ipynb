{
  "nbformat": 4,
  "nbformat_minor": 0,
  "metadata": {
    "colab": {
      "provenance": [],
      "authorship_tag": "ABX9TyMalrr/AnULqpoyaLjKQ+B1",
      "include_colab_link": true
    },
    "kernelspec": {
      "name": "python3",
      "display_name": "Python 3"
    },
    "language_info": {
      "name": "python"
    }
  },
  "cells": [
    {
      "cell_type": "markdown",
      "metadata": {
        "id": "view-in-github",
        "colab_type": "text"
      },
      "source": [
        "<a href=\"https://colab.research.google.com/github/kartikvemulapalli/project/blob/main/code.ipynb\" target=\"_parent\"><img src=\"https://colab.research.google.com/assets/colab-badge.svg\" alt=\"Open In Colab\"/></a>"
      ]
    },
    {
      "cell_type": "code",
      "execution_count": null,
      "metadata": {
        "id": "P7mUyLplzH5F"
      },
      "outputs": [],
      "source": [
        "import cv2\n",
        "import numpy as np\n",
        "from sklearn.metrics.pairwise import cosine_similarity\n",
        "from glob import glob\n",
        "# Import the necessary patch to display images in Colab\n",
        "from google.colab.patches import cv2_imshow\n",
        "\n",
        "# Function to extract color histogram features from an image\n",
        "def extract_features(image_path, bins=(8, 8, 8)):\n",
        "    image = cv2.imread(image_path)\n",
        "    if image is None: # Check if the image was loaded successfully\n",
        "        print(f\"Error: Could not load image at {image_path}\")\n",
        "        return None\n",
        "    image = cv2.cvtColor(image, cv2.COLOR_BGR2HSV)\n",
        "    hist = cv2.calcHist([image], [0, 1, 2], None, bins, [0, 180, 0, 256, 0, 256])\n",
        "    cv2.normalize(hist, hist)\n",
        "    return hist.flatten()\n",
        "\n",
        "# Load and extract features for all images in the database\n",
        "image_paths = glob('/content/images/*.jpg')\n",
        "features = []\n",
        "for path in image_paths:\n",
        "    features.append(extract_features(path))\n",
        "\n",
        "# Convert the features to a NumPy array for easier manipulation\n",
        "features = np.array([f for f in features if f is not None]) # Remove any None values\n",
        "\n",
        "# Query image (the image to compare against the others)\n",
        "query_image_path = \"/content/images/cdmc953.jpg\" # Make sure this path is correct\n",
        "query_features = extract_features(query_image_path)\n",
        "\n",
        "if query_features is not None: # Proceed only if the query image was loaded\n",
        "    # Compute similarity between the query image and all images in the database\n",
        "    similarities = cosine_similarity([query_features], features)[0]\n",
        "\n",
        "    # Find the most similar images (e.g., top 5)\n",
        "    top_indices = np.argsort(similarities)[::-1][:5]  # Top 5 most similar images\n",
        "# Display the top results\n",
        "    for i in top_indices:\n",
        "        print(f\"Image: {image_paths[i]}, Similarity: {similarities[i]}\")\n",
        "        img = cv2.imread(image_paths[i])\n",
        "        # Use cv2_imshow instead of cv2.imshow\n",
        "        cv2_imshow(img)\n",
        "\n",
        "    cv2.destroyAllWindows()"
      ]
    }
  ]
}